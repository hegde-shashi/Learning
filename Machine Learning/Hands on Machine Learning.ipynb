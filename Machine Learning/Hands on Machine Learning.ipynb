{
 "cells": [
  {
   "cell_type": "code",
   "execution_count": 1,
   "id": "058d0d94",
   "metadata": {},
   "outputs": [],
   "source": [
    "import pyforest"
   ]
  },
  {
   "cell_type": "markdown",
   "id": "d9359ce7",
   "metadata": {},
   "source": [
    "Machine learning is the science (art) of programming computers so they can learn from data.\n",
    "\n",
    "Machine learning is the field of study that gives computers the ability to learn without being ecplicitly programmed - Arthur Samuel, 1959"
   ]
  },
  {
   "cell_type": "markdown",
   "id": "b7787346",
   "metadata": {},
   "source": [
    "The system used to learn are called the **_Training set_**. </br>\n",
    "Each training example is called a **_Training Instance (or sample)_**. </br>\n",
    "The part of the machine learning system that learns and makes prediction is called **_Model_**"
   ]
  },
  {
   "cell_type": "markdown",
   "id": "579ebf3e",
   "metadata": {},
   "source": [
    "Digging into large amount of data to discover hidden patterns is called __data mining__"
   ]
  },
  {
   "cell_type": "markdown",
   "id": "c02dc004",
   "metadata": {},
   "source": []
  }
 ],
 "metadata": {
  "kernelspec": {
   "display_name": "base",
   "language": "python",
   "name": "python3"
  },
  "language_info": {
   "codemirror_mode": {
    "name": "ipython",
    "version": 3
   },
   "file_extension": ".py",
   "mimetype": "text/x-python",
   "name": "python",
   "nbconvert_exporter": "python",
   "pygments_lexer": "ipython3",
   "version": "3.12.2"
  }
 },
 "nbformat": 4,
 "nbformat_minor": 5
}
